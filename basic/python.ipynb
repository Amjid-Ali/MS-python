{
 "cells": [
  {
   "cell_type": "markdown",
   "id": "f730b4e4",
   "metadata": {},
   "source": [
    "# Welcome to python\n",
    "\n",
    "In this course of python we will try to learn from the basic to pro level of python's concept as well as its implementation. \n",
    "\n",
    "# Introduction to Python\n",
    "- Python is a popular programming language. It was created by Guido van Rossum, and released in 1991.\n",
    "\n",
    "Python is a high-level, general-purpose, interpreted programming language.\n",
    "\n",
    "1) High-level\n",
    "Python is a high-level programming language that makes it easy to learn. Python doesn’t require you to understand the details of the computer in order to develop programs efficiently.\n",
    "\n",
    "2) General-purpose\n",
    "Python is a general-purpose language. It means that you can use Python in various domains including:\n",
    "\n",
    "Web applications\n",
    "Big data applications\n",
    "Testing\n",
    "Automation\n",
    "Data science, machine learning, and AI\n",
    "Desktop software\n",
    "Mobile apps\n",
    "The targeted language like SQL which can be used for querying data from relational databases.\n",
    "\n",
    "3) Interpreted\n",
    "Python is an interpreted language. To develop a Python program, you write Python code into a file called source code.\n",
    "\n",
    "To execute the source code, you need to convert it to the machine language that the computer can understand. And the Python interpreter turns the source code, line by line, once at a time, into the machine code when the Python program executes.\n",
    "\n",
    "Compiled languages like Java and C# use a compiler that compiles the whole source code before the program executes.\n",
    "\n",
    "\n",
    "# Python versions\n",
    "Python has two major versions: 2x and 3x.\n",
    "\n",
    "Python 2.x was released in 2000. The latest version is 2.7 released in 2010. It isn’t recommended for use in new projects.\n",
    "\n",
    "Python 3.x was released in 2008. Basically, Python 3 isn’t compatible with Python 2. And you should use the latest versions of Python 3 for your new projects. Python 3 is most stable version upto now. \n",
    "\n",
    "😊"
   ]
  },
  {
   "cell_type": "markdown",
   "id": "86817543",
   "metadata": {},
   "source": [
    "\n",
    "# But WHY Python??? 🤔🤔🤔\n",
    "This might be the question, rendering in your mind that why python since there are a lot of programming languages available. Let's clear this confusion."
   ]
  },
  {
   "cell_type": "markdown",
   "id": "de9bb15a",
   "metadata": {},
   "source": [
    "## The Reasons\n",
    "\n",
    "- Python works on different platforms (Windows, Mac, Linux, Raspberry Pi, etc).\n",
    "\n",
    "- Python has a simple syntax similar to the English language.\n",
    "\n",
    "- Python has syntax that allows developers to write programs with fewer lines than some other programming languages.\n",
    "\n",
    "- Python runs on an interpreter system, meaning that code can be executed as soon as it is written. This means that prototyping can be very quick.\n",
    "\n",
    "- Python can be treated in a procedural way, an object-oriented way or a functional way.\n",
    "\n",
    "- Python increases your productivity. Python allows you to solve complex problems in less time and fewer lines of code. It’s quick to make a prototype in Python.\n",
    "\n",
    "- Python becomes a solution in many areas across industries, from web applications to data science and machine learning.\n",
    "\n",
    "- Python is quite easy to learn in comparison with other programming languages. Python syntax is clear and beautiful.\n",
    "\n",
    "- Python has a large ecosystem that includes lots of libraries and frameworks.\n",
    "\n",
    "- Python is cross-platform. Python programs can run on Windows, Linux, and macOS.\n",
    "\n",
    "- Python has a huge community. Whenever you get stuck, you can get help from an active community.\n",
    "\n",
    "- Python developers are in high demand.\n",
    "\n",
    "# Python Syntax compared to other programming languages\n",
    " \n",
    "- Python was designed for readability, and has some similarities to the English language with influence from mathematics.\n",
    "- Python uses new lines to complete a command, as opposed to other programming languages which often use semicolons or parentheses.\n",
    "- Python relies on indentation, using whitespace, to define scope; such as the scope of loops, functions and classes. Other programming languages often use curly-brackets for this purpose"
   ]
  },
  {
   "cell_type": "markdown",
   "id": "029cbcdf",
   "metadata": {},
   "source": [
    "# IDE(s) for python "
   ]
  },
  {
   "cell_type": "markdown",
   "id": "ceb5d100",
   "metadata": {},
   "source": [
    "# IDE(s)\n",
    "\n",
    "An integrated development environment (IDE) refers to a software application that offers computer programmers with extensive software development abilities. IDEs most often consist of a source code editor, build automation tools, and a debugger. Most modern IDEs have intelligent code completion. In this article, you will discover the best Python IDEs currently available and present in the market.\n",
    "\n",
    "- An IDE enables programmers to combine the different aspects of writing a computer program.\n",
    "- IDEs increase programmer productivity by introducing features like editing source code, building executables, and debugging.\n",
    "\n",
    "\n",
    "# Top Python IDEs\n",
    "\n",
    "### 1. IDLE \n",
    "- IDLE (Integrated Development and Learning Environment) is a default editor that accompanies Python\n",
    "-  This IDE is suitable for beginner level developers\n",
    "\n",
    "### 2. PyCharm\n",
    "- PyCharm is a widely used Python IDE created by JetBrains\n",
    "\n",
    "### 3. Visual Studio Code\n",
    "- Visual Studio Code is an open-source (and free) IDE created by Microsoft. It finds great use for Python development\n",
    "\n",
    "### 4. Sublime Text 3\n",
    "- Sublime Text is a very popular code editor. It supports many languages, including Python\n",
    "- Efficient project directory management\n",
    "\n",
    "### 5. Atom\n",
    "- Atom is an open-source code editor by Github and supports Python development\n",
    "- Atom is similar to Sublime Text and provides almost the same features emphasis on speed and usability\n",
    "\n",
    "### 6. Jupyter\n",
    "- Jupyter is widely used in the field of data science, AI etc.\n",
    "- It is easy to use, interactive and allows live code sharing and visualization\n",
    "- Combine code, text, and images for greater user experience\n",
    "\n",
    "### 7. Spyder\n",
    "- Spyder is an open-source IDE most commonly used for scientific development\n",
    "\n",
    "### 8. PyDev\n",
    "- PyDev is a strong python interpreter and is distributed as a third-party plugin for Eclipse IDE\n",
    "\n",
    "### 9. Thonny\n",
    "- Thonny is an IDE ideal for teaching and learning Python programming\n",
    "\n",
    "### 10. Wing\n",
    "- The wing is also a popular IDE that provides a lot of good features to ensure a productive environment\n",
    "- Price: US $95 - US$179 for commercial license"
   ]
  },
  {
   "cell_type": "markdown",
   "id": "19ee88d0",
   "metadata": {},
   "source": [
    "# We will use Jupyter notebook because\n",
    "\n",
    "#### Jupyter Notebook provides you with an easy-to-use, interactive data science environment that doesn’t only work as an integrated development environment (IDE), but also as a presentation or educational tool"
   ]
  },
  {
   "cell_type": "markdown",
   "id": "3fe1b06e",
   "metadata": {},
   "source": [
    "# how to work in jupyter notebook\n",
    "\n",
    "### 1. first you download Anaconda\n",
    "Anaconda is a distribution of the Python and R programming languages for scientific computing (data science, machine learning applications, large-scale data processing, predictive analytics, etc.), that aims to simplify package management and deployment.\n",
    "\n",
    "\n",
    "#### 2. create enviroment in Anaconda \n",
    "A virtual environment is an isolated working copy of Python. This means that each environment can have its own dependencies or even its own Python versions. This is useful if you need different versions of Python or packages for different projects.\n",
    "\n",
    "##### - Creating an environment with commands\n",
    "Use the terminal or an Anaconda Prompt for the following steps:\n",
    "1. To create an environment: (conda create --name myenv)\n",
    "\n",
    "2 When conda asks you to proceed, type y:  (proceed ([y]/n)?)\n",
    "\n",
    "#### (Optional)\n",
    "3. To create an environment with a specific version of Python: (conda create -n myenv python=3.9)\n",
    "\n",
    "4. To create an environment with a specific package: (conda create -n myenv scipy)"
   ]
  },
  {
   "cell_type": "markdown",
   "id": "6fd30ccf",
   "metadata": {},
   "source": [
    "# working in Enviorment\n",
    "\n",
    "\n",
    "1. Activate the new environment: (conda activate myenv)\n",
    "\n",
    "2. Verify that the new environment was installed correctly:\n",
    "\n",
    "# path\n",
    "When installing Anaconda, you have the option to “Add Anaconda to my PATH environment variable.” This is not recommended because the add to PATH option appends Anaconda to PATH. When the installer appends to PATH, it does not call the activation scripts."
   ]
  },
  {
   "cell_type": "markdown",
   "id": "95711572",
   "metadata": {},
   "source": [
    "# ? why we use environment\n",
    "\n",
    "the benefit of python environments is that the encapsulate the requirements of a project from all other python projects.\n",
    "lets suppose if you were to use Python3 for 8 different projects it would be very easy to accidentally upgrade a package or install a conflicting package that breaks other projects without you realising it. So how easy it is to create a separate environment for each project the benefits outway the small time cost?."
   ]
  },
  {
   "cell_type": "markdown",
   "id": "ff98b829",
   "metadata": {},
   "source": [
    "# Installing packages in Anaconda\n",
    "\n",
    "###  1. Using pip \n",
    "pip install package_name\n",
    " \n",
    "#### 2. Using conda \n",
    "conda install package_name"
   ]
  },
  {
   "cell_type": "markdown",
   "id": "4b6d677a",
   "metadata": {},
   "source": [
    "# Let's get Started!!!!!!"
   ]
  },
  {
   "cell_type": "markdown",
   "id": "2e041ef0",
   "metadata": {},
   "source": [
    "![](python1.jpeg)\n",
    "\n",
    "\n",
    "# python is easy \n",
    "\n",
    "\n",
    "![](python2.jpeg)\n"
   ]
  },
  {
   "cell_type": "markdown",
   "id": "20501d6f",
   "metadata": {},
   "source": [
    "# Python syntax\n",
    "Python Indentation\n",
    "Indentation refers to the spaces at the beginning of a code line.\n",
    "\n",
    "Where in other programming languages the indentation in code is for readability only, the indentation in Python is very important.\n",
    "\n",
    "Python uses indentation to indicate a block of code.\n",
    "\n",
    "![](python5.jpg)"
   ]
  },
  {
   "cell_type": "code",
   "execution_count": 2,
   "id": "7989187f",
   "metadata": {},
   "outputs": [
    {
     "name": "stdout",
     "output_type": "stream",
     "text": [
      "hello world\n",
      "Welcome to python\n"
     ]
    }
   ],
   "source": [
    "# hello World\n",
    "\n",
    "print(\"hello world\")\n",
    "print('Welcome to python')"
   ]
  },
  {
   "cell_type": "markdown",
   "id": "0b93b43e",
   "metadata": {},
   "source": [
    "![](helloworld.jpeg)\n",
    "![](helloworld2.jpeg)\n"
   ]
  },
  {
   "cell_type": "markdown",
   "id": "3b1c2df7",
   "metadata": {},
   "source": [
    "# Variables \n",
    "A Python variable is a symbolic name that is a reference or pointer to an object. Once an object is assigned to a variable, you can refer to the object by that name. But the data itself is still contained within the object.\n",
    "\n",
    "\n",
    "\n",
    "![](python3.jpeg)"
   ]
  },
  {
   "cell_type": "code",
   "execution_count": 3,
   "id": "7705a4a7",
   "metadata": {},
   "outputs": [],
   "source": [
    "x = 5\n",
    "y = \"Hello, World!\""
   ]
  },
  {
   "cell_type": "markdown",
   "id": "835511f0",
   "metadata": {},
   "source": [
    "# Comments\n",
    "Python has commenting capability for the purpose of in-code documentation.\n",
    "\n",
    "Comments start with a #, and Python will render the rest of the line as a comment:"
   ]
  },
  {
   "cell_type": "code",
   "execution_count": 4,
   "id": "172e40f2",
   "metadata": {},
   "outputs": [
    {
     "name": "stdout",
     "output_type": "stream",
     "text": [
      "comment above\n"
     ]
    },
    {
     "data": {
      "text/plain": [
       "'\\nmultiple lines comments\\n'"
      ]
     },
     "execution_count": 4,
     "metadata": {},
     "output_type": "execute_result"
    }
   ],
   "source": [
    "# this is one line comments\n",
    "print(\"comment above\")\n",
    "\n",
    "\"\"\"\n",
    "multiple lines comments\n",
    "\"\"\""
   ]
  },
  {
   "cell_type": "markdown",
   "id": "a73c3648",
   "metadata": {},
   "source": [
    "# Python Data Types\n",
    "\n",
    "Built-in Data Types\n",
    "In programming, data type is an important concept.\n",
    "\n",
    "Variables can store data of different types, and different types can do different things.\n",
    "\n",
    "Python has the following data types built-in by default, in these categories:\n",
    "\n",
    "- Text Type:\tstr\n",
    "- Numeric Types:\tint, float, complex\n",
    "- Sequence Types:\tlist, tuple, range\n",
    "- Mapping Type:\tdict\n",
    "- Set Types:\tset, frozenset\n",
    "- Boolean Type:\tbool\n",
    "- Binary Types:\tbytes, bytearray, memoryview\n",
    "- None Type:\tNoneType\n",
    "\n",
    "## Getting the Data Type\n",
    "You can get the data type of any object by using the type() function:"
   ]
  },
  {
   "cell_type": "code",
   "execution_count": 5,
   "id": "d97f17cb",
   "metadata": {},
   "outputs": [
    {
     "name": "stdout",
     "output_type": "stream",
     "text": [
      "<class 'int'>\n"
     ]
    }
   ],
   "source": [
    "x = 5\n",
    "print(type(x))"
   ]
  },
  {
   "cell_type": "markdown",
   "id": "510bc117",
   "metadata": {},
   "source": [
    "# numbers\n",
    "# There are three numeric types in Python:\n",
    "\n",
    "int\n",
    "float\n",
    "complex\n",
    "Variables of numeric types are created when you assign a value to them:\n",
    "\n",
    "## Int\n",
    "Int, or integer, is a whole number, positive or negative, without decimals, of unlimited length.\n",
    "\n",
    "## float\n",
    "Float, or \"floating point number\" is a number, positive or negative, containing one or more decimals.\n",
    "\n",
    "### !! Float can also be scientific numbers with an \"e\" to indicate the power of 10.\n",
    "\n",
    "\n",
    "\n",
    "# Complex\n",
    "Complex numbers are written with a \"j\" as the imaginary part:"
   ]
  },
  {
   "cell_type": "code",
   "execution_count": 8,
   "id": "bbd26e98",
   "metadata": {},
   "outputs": [
    {
     "name": "stdout",
     "output_type": "stream",
     "text": [
      "<class 'float'>\n",
      "<class 'float'>\n",
      "<class 'float'>\n",
      "<class 'float'>\n",
      "<class 'float'>\n",
      "<class 'float'>\n"
     ]
    }
   ],
   "source": [
    "x = 1    # int\n",
    "y = 2.8  # float\n",
    "z = 1j   # complex\n",
    "\n",
    "# float can be scientific number.\n",
    "x = 35e3\n",
    "y = 12E4\n",
    "z = -87.7e100\n",
    "\n",
    "print(type(x))\n",
    "print(type(y))\n",
    "print(type(z))\n",
    "\n",
    "\n",
    "print(type(x))\n",
    "print(type(y))\n",
    "print(type(z))"
   ]
  },
  {
   "cell_type": "markdown",
   "id": "603a1057",
   "metadata": {},
   "source": [
    "# Type Casting \n",
    "\n",
    "There may be times when you want to specify a type on to a variable. This can be done with casting. Python is an object-orientated language, and as such it uses classes to define data types, including its primitive types.\n",
    "\n",
    "Casting in python is therefore done using constructor functions:\n",
    "\n",
    "- int() - constructs an integer number from an integer literal, a float literal (by removing all decimals), or a string literal (providing the string represents a whole number)\n",
    "- float() - constructs a float number from an integer literal, a float literal or a string literal (providing the string represents a float or an integer)\n",
    "- str() - constructs a string from a wide variety of data types, including strings, integer literals and float literals"
   ]
  },
  {
   "cell_type": "code",
   "execution_count": 9,
   "id": "901a43f6",
   "metadata": {},
   "outputs": [],
   "source": [
    "x = int(1)   # x will be 1\n",
    "y = int(2.8) # y will be 2\n",
    "z = int(\"3\") # z will be 3\n",
    "\n",
    "\n",
    "x = float(1)     # x will be 1.0\n",
    "y = float(2.8)   # y will be 2.8\n",
    "z = float(\"3\")   # z will be 3.0\n",
    "w = float(\"4.2\") # w will be 4.2"
   ]
  },
  {
   "cell_type": "code",
   "execution_count": null,
   "id": "adc57f92",
   "metadata": {},
   "outputs": [],
   "source": []
  }
 ],
 "metadata": {
  "kernelspec": {
   "display_name": "Python 3 (ipykernel)",
   "language": "python",
   "name": "python3"
  },
  "language_info": {
   "codemirror_mode": {
    "name": "ipython",
    "version": 3
   },
   "file_extension": ".py",
   "mimetype": "text/x-python",
   "name": "python",
   "nbconvert_exporter": "python",
   "pygments_lexer": "ipython3",
   "version": "3.7.13"
  }
 },
 "nbformat": 4,
 "nbformat_minor": 5
}
